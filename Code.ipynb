{
 "cells": [
  {
   "cell_type": "markdown",
   "metadata": {},
   "source": [
    "###### ### The University of Melbourne, School of Computing and Information Systems\n",
    "# COMP30027 Machine Learning, 2021 Semester 1\n",
    "\n",
    "## Assignment 2: Duration Classification with Recipe Data\n"
   ]
  },
  {
   "cell_type": "markdown",
   "metadata": {},
   "source": [
    "**Student ID(s): 1004503, 1005418"
   ]
  },
  {
   "cell_type": "code",
   "execution_count": 6,
   "metadata": {},
   "outputs": [],
   "source": [
    "import numpy as np\n",
    "import pandas as pd\n",
    "import matplotlib.pyplot as plt\n",
    "import seaborn as sns\n",
    "import warnings\n",
    "import pickle as pkl\n",
    "from collections import defaultdict\n",
    "warnings.filterwarnings('ignore')\n",
    "\n",
    "#testing"
   ]
  },
  {
   "cell_type": "code",
   "execution_count": 7,
   "metadata": {},
   "outputs": [
    {
     "ename": "NameError",
     "evalue": "name 'pickle' is not defined",
     "output_type": "error",
     "traceback": [
      "\u001b[1;31m---------------------------------------------------------------------------\u001b[0m",
      "\u001b[1;31mNameError\u001b[0m                                 Traceback (most recent call last)",
      "\u001b[1;32m<ipython-input-7-9c0b21e20483>\u001b[0m in \u001b[0;36m<module>\u001b[1;34m\u001b[0m\n\u001b[0;32m      1\u001b[0m \u001b[1;31m# Count Vectoriser process\u001b[0m\u001b[1;33m\u001b[0m\u001b[1;33m\u001b[0m\u001b[1;33m\u001b[0m\u001b[0m\n\u001b[0;32m      2\u001b[0m \u001b[1;33m\u001b[0m\u001b[0m\n\u001b[1;32m----> 3\u001b[1;33m \u001b[0mn_vocab\u001b[0m \u001b[1;33m=\u001b[0m \u001b[0mpickle\u001b[0m\u001b[1;33m.\u001b[0m\u001b[0mload\u001b[0m\u001b[1;33m(\u001b[0m\u001b[0mopen\u001b[0m\u001b[1;33m(\u001b[0m\u001b[1;34m\"ML2_data/recipe_text_features_countvec/train_name_countvectorizer.pkl\"\u001b[0m\u001b[1;33m,\u001b[0m \u001b[1;34m\"rb\"\u001b[0m\u001b[1;33m)\u001b[0m\u001b[1;33m)\u001b[0m\u001b[1;33m\u001b[0m\u001b[1;33m\u001b[0m\u001b[0m\n\u001b[0m\u001b[0;32m      4\u001b[0m \u001b[0mn_vocab_dict\u001b[0m \u001b[1;33m=\u001b[0m \u001b[0mn_vocab\u001b[0m\u001b[1;33m.\u001b[0m\u001b[0mvocabulary_\u001b[0m\u001b[1;33m\u001b[0m\u001b[1;33m\u001b[0m\u001b[0m\n\u001b[0;32m      5\u001b[0m \u001b[1;33m\u001b[0m\u001b[0m\n",
      "\u001b[1;31mNameError\u001b[0m: name 'pickle' is not defined"
     ]
    }
   ],
   "source": [
    "# Count Vectoriser process\n",
    "\n",
    "n_vocab = pickle.load(open(\"ML2_data/recipe_text_features_countvec/train_name_countvectorizer.pkl\", \"rb\"))\n",
    "n_vocab_dict = n_vocab.vocabulary_\n",
    "\n",
    "s_vocab = pickle.load(open(\"ML2_data/recipe_text_features_countvec/train_steps_countvectorizer.pkl\", \"rb\"))\n",
    "s_vocab_dict = s_vocab.vocabulary_\n",
    "\n",
    "i_vocab = pickle.load(open(\"ML2_data/recipe_text_features_countvec/train_ingr_countvectorizer.pkl\", \"rb\"))\n",
    "i_vocab_dict = i_vocab.vocabulary_\n",
    "\n",
    "train = pd.read_csv('ML2_data/recipe_train.csv')\n",
    "\n",
    "X_train_raw = train.iloc[:,:]\n",
    "y_train = train.iloc[:,-1]\n",
    "\n",
    "X_test_raw = pd.read_csv('ML2_data/recipe_test.csv')\n"
   ]
  },
  {
   "cell_type": "code",
   "execution_count": 16,
   "metadata": {},
   "outputs": [],
   "source": [
    "#fit countvec/doc2vec features onto text feature columns\n",
    "#TODO: try doc2vec as well and compare performance\n",
    "\n",
    "Xtrain_names = list(X_train_raw['name'])\n",
    "Xtrain_ingredients = list(X_train_raw['ingredients'])\n",
    "Xtrain_steps = list(X_train_raw['steps'])\n",
    "\n",
    "Xtest_names = list(X_test_raw['name'])\n",
    "Xtest_steps = list(X_test_raw['steps'])\n",
    "Xtest_ingredients = list(X_test_raw['ingredients'])\n",
    "\n",
    "#transforms each countvec into a dense matrix containing corresponding text features\n",
    "Xtrain_names =  n_vocab.fit_transform(Xtrain_names).todense()\n",
    "Xtest_names = n_vocab.transform(Xtest_names).todense()\n",
    "\n",
    "Xtrain_steps =  s_vocab.fit_transform(Xtrain_steps).todense()\n",
    "Xtest_steps = s_vocab.transform(Xtest_steps).todense()\n",
    "\n",
    "Xtrain_ingreds =  i_vocab.fit_transform(Xtrain_ingredients).todense()\n",
    "Xtest_ingreds = i_vocab.transform(Xtest_ingredients).todense()"
   ]
  },
  {
   "cell_type": "code",
   "execution_count": null,
   "metadata": {},
   "outputs": [],
   "source": [
    "# Switch columns with CountVec/Word2Vec fitted values\n",
    "\n",
    "Xtrain = X_train_raw\n",
    "Xtest = X_test_raw\n",
    "\n",
    "Xtrain['name'] = Xtrain_names\n",
    "Xtrain['steps'] = Xtrain_steps\n",
    "Xtrain['ingredients'] = Xtrain_ingreds\n",
    "\n",
    "Xtest['name'] = Xtest_names\n",
    "Xtest['steps'] = Xtest_steps\n",
    "Xtest['ingredients'] = Xtest_ingreds\n",
    "\n"
   ]
  },
  {
   "cell_type": "code",
   "execution_count": 21,
   "metadata": {},
   "outputs": [
    {
     "data": {
      "text/html": [
       "<div>\n",
       "<style scoped>\n",
       "    .dataframe tbody tr th:only-of-type {\n",
       "        vertical-align: middle;\n",
       "    }\n",
       "\n",
       "    .dataframe tbody tr th {\n",
       "        vertical-align: top;\n",
       "    }\n",
       "\n",
       "    .dataframe thead th {\n",
       "        text-align: right;\n",
       "    }\n",
       "</style>\n",
       "<table border=\"1\" class=\"dataframe\">\n",
       "  <thead>\n",
       "    <tr style=\"text-align: right;\">\n",
       "      <th></th>\n",
       "      <th>name</th>\n",
       "      <th>n_steps</th>\n",
       "      <th>n_ingredients</th>\n",
       "      <th>steps</th>\n",
       "      <th>ingredients</th>\n",
       "    </tr>\n",
       "  </thead>\n",
       "  <tbody>\n",
       "    <tr>\n",
       "      <th>0</th>\n",
       "      <td>0</td>\n",
       "      <td>9</td>\n",
       "      <td>13</td>\n",
       "      <td>['mix flour , salt and pepper together on a sh...</td>\n",
       "      <td>['flour', 'salt', 'black pepper', 'skinless ch...</td>\n",
       "    </tr>\n",
       "    <tr>\n",
       "      <th>1</th>\n",
       "      <td>0</td>\n",
       "      <td>3</td>\n",
       "      <td>3</td>\n",
       "      <td>['with a mortar and pestle or with the bottom ...</td>\n",
       "      <td>['black peppercorns', 'feta cheese', 'honey']</td>\n",
       "    </tr>\n",
       "    <tr>\n",
       "      <th>2</th>\n",
       "      <td>0</td>\n",
       "      <td>8</td>\n",
       "      <td>11</td>\n",
       "      <td>['preheat oven to 350f', 'line mini muffin cup...</td>\n",
       "      <td>['butter', 'semi-sweet chocolate chips', 'coco...</td>\n",
       "    </tr>\n",
       "    <tr>\n",
       "      <th>3</th>\n",
       "      <td>0</td>\n",
       "      <td>9</td>\n",
       "      <td>6</td>\n",
       "      <td>['in a small bowl , peel , break , and then ma...</td>\n",
       "      <td>['banana', 'eggs', 'vanilla extract', 'walnuts...</td>\n",
       "    </tr>\n",
       "    <tr>\n",
       "      <th>4</th>\n",
       "      <td>0</td>\n",
       "      <td>9</td>\n",
       "      <td>10</td>\n",
       "      <td>['clean chicken and pat dry', 'sprinkle salt a...</td>\n",
       "      <td>['roasting chickens', 'sweet onion', 'parsley'...</td>\n",
       "    </tr>\n",
       "    <tr>\n",
       "      <th>5</th>\n",
       "      <td>0</td>\n",
       "      <td>11</td>\n",
       "      <td>9</td>\n",
       "      <td>['preheat broiler and coat a baking sheet with...</td>\n",
       "      <td>['cooking spray', 'plain fat-free yogurt', 'pa...</td>\n",
       "    </tr>\n",
       "    <tr>\n",
       "      <th>6</th>\n",
       "      <td>0</td>\n",
       "      <td>7</td>\n",
       "      <td>4</td>\n",
       "      <td>['preheat oven to 350 degrees', 'line the bott...</td>\n",
       "      <td>['pickled jalapeno pepper', 'eggs', 'mild ched...</td>\n",
       "    </tr>\n",
       "    <tr>\n",
       "      <th>7</th>\n",
       "      <td>0</td>\n",
       "      <td>14</td>\n",
       "      <td>6</td>\n",
       "      <td>['to make prickley pear margarita mix:', 'in a...</td>\n",
       "      <td>['margarita mix', 'prickly pears', 'gold tequi...</td>\n",
       "    </tr>\n",
       "    <tr>\n",
       "      <th>8</th>\n",
       "      <td>0</td>\n",
       "      <td>9</td>\n",
       "      <td>10</td>\n",
       "      <td>['combine ground beef / mince , breadcrumbs , ...</td>\n",
       "      <td>['ground beef', 'breadcrumbs', 'garlic', 'swee...</td>\n",
       "    </tr>\n",
       "    <tr>\n",
       "      <th>9</th>\n",
       "      <td>0</td>\n",
       "      <td>24</td>\n",
       "      <td>18</td>\n",
       "      <td>['adjust an oven rack to the middle position a...</td>\n",
       "      <td>['panko breadcrumbs', 'olive oil', 'parmesan c...</td>\n",
       "    </tr>\n",
       "  </tbody>\n",
       "</table>\n",
       "</div>"
      ],
      "text/plain": [
       "   name  n_steps  n_ingredients  \\\n",
       "0     0        9             13   \n",
       "1     0        3              3   \n",
       "2     0        8             11   \n",
       "3     0        9              6   \n",
       "4     0        9             10   \n",
       "5     0       11              9   \n",
       "6     0        7              4   \n",
       "7     0       14              6   \n",
       "8     0        9             10   \n",
       "9     0       24             18   \n",
       "\n",
       "                                               steps  \\\n",
       "0  ['mix flour , salt and pepper together on a sh...   \n",
       "1  ['with a mortar and pestle or with the bottom ...   \n",
       "2  ['preheat oven to 350f', 'line mini muffin cup...   \n",
       "3  ['in a small bowl , peel , break , and then ma...   \n",
       "4  ['clean chicken and pat dry', 'sprinkle salt a...   \n",
       "5  ['preheat broiler and coat a baking sheet with...   \n",
       "6  ['preheat oven to 350 degrees', 'line the bott...   \n",
       "7  ['to make prickley pear margarita mix:', 'in a...   \n",
       "8  ['combine ground beef / mince , breadcrumbs , ...   \n",
       "9  ['adjust an oven rack to the middle position a...   \n",
       "\n",
       "                                         ingredients  \n",
       "0  ['flour', 'salt', 'black pepper', 'skinless ch...  \n",
       "1      ['black peppercorns', 'feta cheese', 'honey']  \n",
       "2  ['butter', 'semi-sweet chocolate chips', 'coco...  \n",
       "3  ['banana', 'eggs', 'vanilla extract', 'walnuts...  \n",
       "4  ['roasting chickens', 'sweet onion', 'parsley'...  \n",
       "5  ['cooking spray', 'plain fat-free yogurt', 'pa...  \n",
       "6  ['pickled jalapeno pepper', 'eggs', 'mild ched...  \n",
       "7  ['margarita mix', 'prickly pears', 'gold tequi...  \n",
       "8  ['ground beef', 'breadcrumbs', 'garlic', 'swee...  \n",
       "9  ['panko breadcrumbs', 'olive oil', 'parmesan c...  "
      ]
     },
     "execution_count": 21,
     "metadata": {},
     "output_type": "execute_result"
    }
   ],
   "source": [
    "#test cell\n",
    "\n",
    "Xtest.head(10)"
   ]
  },
  {
   "cell_type": "code",
   "execution_count": 41,
   "metadata": {},
   "outputs": [],
   "source": [
    "# This function should prepare the data by reading it from a file and converting it into a useful format for training and testing\n",
    "\n",
    "def preprocess(test):\n",
    "    \n",
    "    #replace columns with text with pre-computed text features\n",
    "    \n",
    "    return "
   ]
  },
  {
   "cell_type": "code",
   "execution_count": null,
   "metadata": {},
   "outputs": [],
   "source": [
    "\n",
    "def train():\n",
    "    return"
   ]
  },
  {
   "cell_type": "code",
   "execution_count": null,
   "metadata": {},
   "outputs": [],
   "source": [
    "\n",
    "def predict():\n",
    "    return"
   ]
  },
  {
   "cell_type": "code",
   "execution_count": null,
   "metadata": {},
   "outputs": [],
   "source": [
    "\n",
    "def evaluate():\n",
    "    return"
   ]
  },
  {
   "cell_type": "code",
   "execution_count": null,
   "metadata": {},
   "outputs": [],
   "source": []
  }
 ],
 "metadata": {
  "kernelspec": {
   "display_name": "Python 3",
   "language": "python",
   "name": "python3"
  },
  "language_info": {
   "codemirror_mode": {
    "name": "ipython",
    "version": 3
   },
   "file_extension": ".py",
   "mimetype": "text/x-python",
   "name": "python",
   "nbconvert_exporter": "python",
   "pygments_lexer": "ipython3",
   "version": "3.8.5"
  }
 },
 "nbformat": 4,
 "nbformat_minor": 2
}
