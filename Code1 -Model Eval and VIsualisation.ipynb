{
 "cells": [
  {
   "cell_type": "markdown",
   "metadata": {},
   "source": [
    "###### ### The University of Melbourne, School of Computing and Information Systems\n",
    "# COMP30027 Machine Learning, 2021 Semester 1\n",
    "\n",
    "## Assignment 2: Duration Classification with Recipe Data\n"
   ]
  },
  {
   "cell_type": "markdown",
   "metadata": {},
   "source": [
    "**Student ID(s): 1004503, 1005418"
   ]
  },
  {
   "cell_type": "markdown",
   "metadata": {},
   "source": [
    "## Import required libraries"
   ]
  },
  {
   "cell_type": "code",
   "execution_count": null,
   "metadata": {},
   "outputs": [],
   "source": [
    "import numpy as np\n",
    "import pandas as pd\n",
    "import matplotlib.pyplot as plt\n",
    "import seaborn as sns\n",
    "import warnings\n",
    "#import pickle\n",
    "import scipy\n",
    "import gc\n",
    "from sklearn.feature_selection import f_classif\n",
    "from sklearn.feature_selection import SelectKBest, chi2\n",
    "from xgboost import XGBClassifier\n",
    "from collections import defaultdict\n",
    "from sklearn.model_selection import train_test_split\n",
    "from sklearn import preprocessing"
   ]
  },
  {
   "cell_type": "markdown",
   "metadata": {},
   "source": [
    "## Pre-process for count vectorizer and doc2vec"
   ]
  },
  {
   "cell_type": "code",
   "execution_count": null,
   "metadata": {},
   "outputs": [],
   "source": [
    "#Read BoW\n",
    "gc.collect()\n",
    "#count_vec_name = scipy.sparse.load_npz(\"ML2_data/recipe_text_features_countvec/train_name_vec.npz\").toarray().astype('float32')\n",
    "count_vec_steps = scipy.sparse.load_npz(\"ML2_data/recipe_text_features_countvec/train_steps_vec.npz\").toarray().astype('float32')\n",
    "count_vec_ingr = scipy.sparse.load_npz(\"ML2_data/recipe_text_features_countvec/train_ingr_vec.npz\").toarray().astype('float32')"
   ]
  },
  {
   "cell_type": "code",
   "execution_count": null,
   "metadata": {},
   "outputs": [],
   "source": [
    "#Read Doc2Vec\n",
    "gc.collect()\n",
    "doc2vec100_name = pd.read_csv(\"ML2_data/recipe_text_features_doc2vec100/train_name_doc2vec100.csv\", header = None).values.astype('float32')\n",
    "doc2vec100_steps = pd.read_csv(\"ML2_data/recipe_text_features_doc2vec100/train_steps_doc2vec100.csv\", header = None).values.astype('float32')\n",
    "doc2vec100_ingr = pd.read_csv(\"ML2_data/recipe_text_features_doc2vec100/train_ingr_doc2vec100.csv\", header = None).values.astype('float32')\n",
    "\n",
    "doc2vec50_name = pd.read_csv(\"ML2_data/recipe_text_features_doc2vec50/train_name_doc2vec50.csv\", header = None).values.astype('float32')\n",
    "doc2vec50_steps = pd.read_csv(\"ML2_data/recipe_text_features_doc2vec50/train_steps_doc2vec50.csv\", header = None).values.astype('float32')\n",
    "doc2vec50_ingr = pd.read_csv(\"ML2_data/recipe_text_features_doc2vec50/train_ingr_doc2vec50.csv\", header = None).values.astype('float32')\n"
   ]
  },
  {
   "cell_type": "code",
   "execution_count": null,
   "metadata": {},
   "outputs": [],
   "source": [
    "csv_data = pd.read_csv(\"ML2_data/recipe_train.csv\")\n",
    "#test_csv_data = pd.read_csv(\"ML2_data/recipe_test.csv\")\n",
    "\n",
    "n_steps = csv_data.iloc[:,1]\n",
    "n_steps = n_steps.values\n",
    "\n",
    "n_ingr = csv_data.iloc[:,2]\n",
    "n_ingr = n_ingr.values\n",
    "\n",
    "#class labels\n",
    "duration_array = csv_data.iloc[:,-1]\n",
    "duration_array = duration_array.values\n",
    "\n",
    "n_steps_array = []\n",
    "n_ingr_array = []\n",
    "\n",
    "for i in range(len(n_steps)):\n",
    "    n_steps_array.append([n_steps[i]])\n",
    "    n_ingr_array.append([n_ingr[i]])\n"
   ]
  },
  {
   "cell_type": "code",
   "execution_count": null,
   "metadata": {},
   "outputs": [],
   "source": [
    "\n",
    "#Stack text features into a train_data array\n",
    "train_data = np.hstack([n_steps_array,\n",
    "                        n_ingr_array,\n",
    "                        doc2vec100_name,\n",
    "                        count_vec_steps,\n",
    "                        count_vec_ingr \n",
    "                        ])\n",
    "print(train_data.shape)\n",
    "\n",
    "del n_steps_array\n",
    "del n_ingr_array\n",
    "del doc2vec100_name\n",
    "del count_vec_steps\n",
    "del count_vec_ingr \n",
    "\n",
    "gc.collect()"
   ]
  },
  {
   "cell_type": "code",
   "execution_count": null,
   "metadata": {},
   "outputs": [],
   "source": [
    "#split train and test data \n",
    "X_train, X_test, y_train, y_test = train_test_split(train_data, duration_array, test_size=0.25, random_state=42, stratify=duration_array)"
   ]
  },
  {
   "cell_type": "code",
   "execution_count": null,
   "metadata": {},
   "outputs": [],
   "source": [
    "#abs_scaler = preprocessing.MaxAbsScaler()\n",
    "#\n",
    "#X_train = abs_scaler.fit_transform(X_train)\n",
    "#X_test = abs_scaler.fit_transform(X_test)\n",
    "#"
   ]
  },
  {
   "cell_type": "code",
   "execution_count": null,
   "metadata": {},
   "outputs": [],
   "source": []
  },
  {
   "cell_type": "code",
   "execution_count": null,
   "metadata": {},
   "outputs": [],
   "source": [
    "gc.collect()"
   ]
  },
  {
   "cell_type": "code",
   "execution_count": null,
   "metadata": {},
   "outputs": [],
   "source": [
    "import warnings\n",
    "warnings.simplefilter(\"ignore\", UserWarning)\n",
    "\n",
    "from sklearn.linear_model import LogisticRegression\n",
    "from sklearn.model_selection import train_test_split\n",
    "from sklearn.naive_bayes import GaussianNB, MultinomialNB\n",
    "from sklearn.tree import DecisionTreeClassifier\n",
    "from sklearn.dummy import DummyClassifier\n",
    "from sklearn.ensemble import RandomForestClassifier, BaggingClassifier, AdaBoostClassifier\n",
    "\n",
    "from sklearn import svm\n",
    "import time"
   ]
  },
  {
   "cell_type": "code",
   "execution_count": null,
   "metadata": {},
   "outputs": [],
   "source": [
    "selection = SelectKBest(score_func=f_classif, k=50)\n",
    "selection.fit(X_train,y_train)\n",
    "X_train =selection.transform(X_train)\n",
    "X_test = selection.transform(X_test)"
   ]
  },
  {
   "cell_type": "code",
   "execution_count": null,
   "metadata": {
    "scrolled": true
   },
   "outputs": [],
   "source": [
    "#try different classifiers and evaluate individual model performance\n",
    "#code adapated from Practical 8\n",
    "\n",
    "models = [LogisticRegression(),\n",
    "          RandomForestClassifier(n_jobs=-1),\n",
    "          XGBClassifier(tree_method='gpu_hist'),\n",
    "          svm.LinearSVC()]\n",
    "\n",
    "titles = ['Logistic Regression',\n",
    "          'Random Forest',\n",
    "          'XGBoost',\n",
    "         'LinearSVC()']\n",
    "output = []\n",
    "total_time = 0\n",
    "total_score = 0\n",
    "\n",
    "#test individual model performance\n",
    "for title, model in zip(titles, models):\n",
    "    t_start = time.time()\n",
    "\n",
    "    row = []\n",
    "    \n",
    "    model.fit(X_train, y_train)\n",
    "    score = model.score(X_test, y_test)\n",
    "    t_end = time.time()\n",
    "    time_taken = t_end-t_start\n",
    "    total_time += time_taken\n",
    "    total_score += score\n",
    "    row = [title, score, round(time_taken, 3)]\n",
    "    \n",
    "    print(title, score, round(time_taken, 3))\n",
    "    output.append(row)\n",
    "\n",
    "#output model performance to CSV file\n",
    "row = ['Average',  total_score/len(models), total_time/len(models)]\n",
    "output.append(row)\n",
    "\n",
    "output = pd.DataFrame(output, columns = ['model', 'score','duration'])\n",
    "output.to_csv('50FeaturesMixed.csv', index = False)    \n",
    "\n",
    "# y_pred = model.predict(X_test)\n",
    "# predictions = [round(value) for value in y_pred]\n",
    "# accuracy = accuracy_score(y_test, y_pred)\n",
    "# print(\"Accuracy: %.2f%%\" % (accuracy * 100.0))\n"
   ]
  },
  {
   "cell_type": "code",
   "execution_count": null,
   "metadata": {},
   "outputs": [],
   "source": [
    "xgb = XGBClassifier(tree_method='gpu_hist')\n",
    "\n",
    "for i in range(len(y_predict)):\n",
    "    row = [i+1, y_predict[i]]\n",
    "    output.append(row)\n",
    "    "
   ]
  },
  {
   "cell_type": "code",
   "execution_count": null,
   "metadata": {},
   "outputs": [],
   "source": []
  },
  {
   "cell_type": "code",
   "execution_count": null,
   "metadata": {},
   "outputs": [],
   "source": [
    "#implement stacker\n",
    "\n",
    "from sklearn.pipeline import make_pipeline\n",
    "from sklearn.ensemble import StackingClassifier\n",
    "\n",
    "models = [LogisticRegression(),\n",
    "          XGBClassifier(tree_method='gpu_hist'),\n",
    "          svm.LinearSVC(),\n",
    "          RandomForestClassifier(n_jobs =-1)]\n",
    "\n",
    "titles = ['Logistic Regression',\n",
    "          'XGB',\n",
    "          'LinearSVC',\n",
    "          'Decision Tree']\n",
    "\n",
    "clf = StackingClassifier(\n",
    "    estimators=list(zip(titles,models)), final_estimator=XGBClassifier(tree_method='gpu_hist')\n",
    "     )\n",
    "\n",
    "output = []\n",
    "clf.fit(new_X_train, y_train)\n",
    "y_predict = clf.predict(new_X_test)\n",
    "\n",
    "for i in range(len(y_predict)):\n",
    "    row = [i+1, y_predict[i]]\n",
    "    output.append(row)\n",
    "  \n"
   ]
  },
  {
   "cell_type": "code",
   "execution_count": null,
   "metadata": {},
   "outputs": [],
   "source": [
    "#implement ADABoost\n",
    "\n",
    "clf = AdaBoostClassifier(n_estimators=300, random_state=0)\n",
    "\n",
    "t_start = time.time()\n",
    "\n",
    "clf.fit(new_X_train, y_train)\n",
    "y_predict = clf.predict(new_X_test)\n",
    "t_end = time.time()\n",
    "output = []\n",
    "\n",
    "for i in range(len(y_predict)):\n",
    "    row = [i+1, y_predict[i]]\n",
    "    output.append(row)\n",
    "  \n",
    "output = pd.DataFrame(output, columns = ['id', 'duration_label'])\n",
    "output.to_csv('AdaBoost'+ '_CV.csv', index = False)"
   ]
  },
  {
   "cell_type": "code",
   "execution_count": null,
   "metadata": {},
   "outputs": [],
   "source": [
    "#create train test split for model visualisations\n",
    "X_train, X_test, y_train, y_test = train_test_split(train_data, duration_array, test_size=0.25, random_state=42, stratify= True)"
   ]
  },
  {
   "cell_type": "code",
   "execution_count": null,
   "metadata": {},
   "outputs": [],
   "source": [
    "selection = SelectKBest(score_func=f_classif, k=500)\n",
    "selection.fit(X_train,y_train)\n",
    "new_X_train = selection.transform(X_train)\n",
    "new_X_test = selection.transform(X_test)"
   ]
  },
  {
   "cell_type": "code",
   "execution_count": null,
   "metadata": {},
   "outputs": [],
   "source": [
    "from sklearn.ensemble import RandomForestClassifier\n",
    "import wandb\n",
    "wandb.init(project = \"Recipe Duration Prediction\")\n",
    "\n",
    "svc = svm.LinearSVC(random_state=42)\n",
    "lr = LogisticRegression(random_state = 42)\n",
    "rf = RandomForestClassifier(random_state = 42)\n",
    "dt = DecisionTreeClassifier(random_state=42)\n",
    "\n",
    "models = [svc, lr, rf, dt]\n",
    "\n",
    "for model in models:\n",
    "    model.fit(new_X_train, y_train)\n"
   ]
  },
  {
   "cell_type": "code",
   "execution_count": null,
   "metadata": {},
   "outputs": [],
   "source": [
    "import warnings\n",
    "import scikitplot as skplt\n",
    "import matplotlib.pyplot as plt\n",
    "\n",
    "warnings.filterwarnings(\"ignore\")\n",
    "\n",
    "y_test_pred = lr.predict(new_X_test)\n",
    "\n",
    "fig = plt.figure(figsize=(15,6))\n",
    "                 \n",
    "ax1 = fig.add_subplot(121)\n",
    "skplt.metrics.plot_confusion_matrix(y_test, y_test_pred,\n",
    "                                    title=\"Logistic Regression\",\n",
    "                                    cmap=\"Oranges\",\n",
    "                                    ax=ax1)\n"
   ]
  },
  {
   "cell_type": "code",
   "execution_count": null,
   "metadata": {},
   "outputs": [],
   "source": [
    "\n",
    "y_test_pred = lr.predict(new_X_test)\n",
    "\n",
    "fig = plt.figure(figsize=(15,6))\n",
    "                 \n",
    "ax1 = fig.add_subplot(121)\n",
    "skplt.metrics.plot_confusion_matrix(y_test, y_test_pred,\n",
    "                                    title=\"Logistic Regression\",\n",
    "                                    cmap=\"Oranges\",\n",
    "                                    ax=ax1)\n",
    "\n"
   ]
  },
  {
   "cell_type": "code",
   "execution_count": null,
   "metadata": {},
   "outputs": [],
   "source": [
    "y_test_pred = dt.predict(new_X_test)\n",
    "\n",
    "fig = plt.figure(figsize=(15,6))\n",
    "                 \n",
    "ax1 = fig.add_subplot(121)\n",
    "skplt.metrics.plot_confusion_matrix(y_test, y_test_pred,\n",
    "                                    title=\"Decision Tree\",\n",
    "                                    cmap=\"Oranges\",\n",
    "                                    ax=ax1)\n",
    "\n"
   ]
  },
  {
   "cell_type": "code",
   "execution_count": null,
   "metadata": {},
   "outputs": [],
   "source": [
    "#preprocess entire data set\n",
    "gc.collect()"
   ]
  },
  {
   "cell_type": "code",
   "execution_count": null,
   "metadata": {},
   "outputs": [],
   "source": [
    "skplt.estimators.plot_learning_curve(LogisticRegression(), train_data, duration_array,\n",
    "                                     cv=7, shuffle=True, scoring=\"accuracy\",\n",
    "                                     n_jobs=-1, figsize=(6,4), title_fontsize=\"large\", text_fontsize=\"large\",\n",
    "                                     title=\"Logistic Regression learning curve\");"
   ]
  },
  {
   "cell_type": "code",
   "execution_count": null,
   "metadata": {},
   "outputs": [],
   "source": []
  }
 ],
 "metadata": {
  "kernelspec": {
   "display_name": "Python 3",
   "language": "python",
   "name": "python3"
  },
  "language_info": {
   "codemirror_mode": {
    "name": "ipython",
    "version": 3
   },
   "file_extension": ".py",
   "mimetype": "text/x-python",
   "name": "python",
   "nbconvert_exporter": "python",
   "pygments_lexer": "ipython3",
   "version": "3.8.5"
  }
 },
 "nbformat": 4,
 "nbformat_minor": 2
}
